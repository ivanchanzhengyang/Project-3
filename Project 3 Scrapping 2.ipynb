{
 "cells": [
  {
   "cell_type": "code",
   "execution_count": 1,
   "id": "d3c1e765",
   "metadata": {},
   "outputs": [],
   "source": [
    "import pandas as pd\n",
    "import requests\n",
    "from bs4 import BeautifulSoup\n",
    "import praw\n",
    "import re"
   ]
  },
  {
   "cell_type": "code",
   "execution_count": 2,
   "id": "797a2b67",
   "metadata": {},
   "outputs": [],
   "source": [
    "# Initialize your Reddit API client (replace with your actual credentials)\n",
    "redditscrapper = praw.Reddit(\n",
    "    client_id='mTKAc7piwaoiD3fvkhY7qA',\n",
    "    client_secret='GdT29i_cBYDTJwb0eExYEh6prVceGg',\n",
    "    user_agent='Personal Scrapping App v1.0 (by /u/AlicornGaia) - Contact: weegeevirus9001@gmail.com'\n",
    ")"
   ]
  },
  {
   "cell_type": "code",
   "execution_count": 3,
   "id": "8d08868c",
   "metadata": {},
   "outputs": [],
   "source": [
    "# List of subreddit names\n",
    "subreddit_names = [\"intermittentfasting\", \"EatingDisorders\"]"
   ]
  },
  {
   "cell_type": "code",
   "execution_count": 4,
   "id": "c6768f8a",
   "metadata": {},
   "outputs": [],
   "source": [
    "# Dictionary to store post data\n",
    "posts_dict = {\n",
    "    \"Title\": [],\n",
    "    \"Post Text\": [],\n",
    "    \"ID\": [],\n",
    "    \"Score\": [],\n",
    "    \"Total Comments\": [],\n",
    "    \"Post URL\": [],\n",
    "    \"Subreddit\": [],\n",
    "    \"Post Type\": []  # Add a column for post type (new, hot, top)\n",
    "}"
   ]
  },
  {
   "cell_type": "code",
   "execution_count": 5,
   "id": "ee829d1c",
   "metadata": {},
   "outputs": [],
   "source": [
    "# Set to keep track of collected post IDs\n",
    "collected_post_ids = set()"
   ]
  },
  {
   "cell_type": "code",
   "execution_count": 7,
   "id": "a9c7304b",
   "metadata": {},
   "outputs": [
    {
     "name": "stdout",
     "output_type": "stream",
     "text": [
      "Success! The subreddit at https://www.reddit.com/r/intermittentfasting is accessible.\n",
      "Success! The subreddit at https://www.reddit.com/r/EatingDisorders is accessible.\n"
     ]
    }
   ],
   "source": [
    "# Iterate through the subreddit names\n",
    "for subreddit_name in subreddit_names:\n",
    "    # Test if the Reddit subreddit URL is accessible\n",
    "    reddit_url = f\"https://www.reddit.com/r/{subreddit_name}\"\n",
    "    response = requests.get(reddit_url)\n",
    "\n",
    "    # Check the response status code\n",
    "    if response.status_code == 200:\n",
    "        print(f\"Success! The subreddit at {reddit_url} is accessible.\")\n",
    "    else:\n",
    "        print(f\"Error! The subreddit at {reddit_url} returned a status code of {response.status_code}.\")\n",
    "\n",
    "    # Remove the 'continue' statement here to ensure the code continues to fetch and collect posts\n",
    "    subreddit = redditscrapper.subreddit(subreddit_name)\n",
    "    \n",
    "    # Define the post types to scrape\n",
    "    post_types = [\"hot\", \"new\", \"top\", \"rising\"]  # You can add more if needed \n",
    "    \n",
    "    # Iterate through post types\n",
    "    for post_type in post_types:\n",
    "        # Fetch posts of the specified type\n",
    "        if post_type == \"new\":\n",
    "            posts = subreddit.new(limit=10)  # Fetch new posts\n",
    "        elif post_type == \"hot\":\n",
    "            posts = subreddit.hot(limit=10)  # Fetch hot posts\n",
    "        elif post_type == \"top\":\n",
    "            posts = subreddit.top(limit=10)  # Fetch top posts\n",
    "        elif post_type == \"rising\":\n",
    "            posts = subreddit.rising(limit=10)  # Fetch rising posts\n",
    "        \n",
    "        # Iterate through the posts and collect data\n",
    "        for post in posts:\n",
    "            # Check if the post ID has already been collected\n",
    "            if post.id not in collected_post_ids:\n",
    "                collected_post_ids.add(post.id)  # Add the post ID to the set\n",
    "                \n",
    "                # Collect data for the post\n",
    "                posts_dict[\"Title\"].append(post.title)\n",
    "                posts_dict[\"Post Text\"].append(post.selftext)\n",
    "                posts_dict[\"ID\"].append(post.id)\n",
    "                posts_dict[\"Score\"].append(post.score)\n",
    "                posts_dict[\"Total Comments\"].append(post.num_comments)\n",
    "                posts_dict[\"Post URL\"].append(post.url)\n",
    "                posts_dict[\"Subreddit\"].append(subreddit_name)\n",
    "                posts_dict[\"Post Type\"].append(post_type)"
   ]
  },
  {
   "cell_type": "code",
   "execution_count": null,
   "id": "4d65deee",
   "metadata": {},
   "outputs": [],
   "source": []
  }
 ],
 "metadata": {
  "kernelspec": {
   "display_name": "Python 3 (ipykernel)",
   "language": "python",
   "name": "python3"
  },
  "language_info": {
   "codemirror_mode": {
    "name": "ipython",
    "version": 3
   },
   "file_extension": ".py",
   "mimetype": "text/x-python",
   "name": "python",
   "nbconvert_exporter": "python",
   "pygments_lexer": "ipython3",
   "version": "3.11.3"
  }
 },
 "nbformat": 4,
 "nbformat_minor": 5
}
