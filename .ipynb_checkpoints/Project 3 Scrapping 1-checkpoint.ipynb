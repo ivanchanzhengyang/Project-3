{
 "cells": [
  {
   "cell_type": "code",
   "execution_count": 1,
   "id": "a8cb736d",
   "metadata": {},
   "outputs": [],
   "source": [
    "import pandas as pd\n",
    "import requests\n",
    "from bs4 import BeautifulSoup\n",
    "import praw\n",
    "import re"
   ]
  },
  {
   "cell_type": "code",
   "execution_count": 2,
   "id": "3c12bb97",
   "metadata": {},
   "outputs": [],
   "source": [
    "reddit_1 = \"https://www.reddit.com/r/Fasting/new/\"\n",
    "reddit_2 = \"https://www.reddit.com/r/EatingDisorders/new/\""
   ]
  },
  {
   "cell_type": "code",
   "execution_count": 3,
   "id": "de9016c8",
   "metadata": {},
   "outputs": [
    {
     "name": "stdout",
     "output_type": "stream",
     "text": [
      "200\n",
      "200\n"
     ]
    }
   ],
   "source": [
    "req1 = requests.get(reddit_1)\n",
    "req2 = requests.get(reddit_2)\n",
    "print(req1.status_code)\n",
    "print(req2.status_code)"
   ]
  },
  {
   "cell_type": "code",
   "execution_count": 4,
   "id": "376c795d",
   "metadata": {
    "scrolled": true
   },
   "outputs": [],
   "source": [
    "soup1 = BeautifulSoup(req1.text,'lxml')\n",
    "soup2 = BeautifulSoup(req2.text,'lxml')"
   ]
  },
  {
   "cell_type": "code",
   "execution_count": 5,
   "id": "08fce5a1",
   "metadata": {},
   "outputs": [],
   "source": [
    "redditscrapper = praw.Reddit(\n",
    "    client_id='mTKAc7piwaoiD3fvkhY7qA',\n",
    "    client_secret='GdT29i_cBYDTJwb0eExYEh6prVceGg',\n",
    "    user_agent='Personal Scrapping App v1.0 (by /u/AlicornGaia) - Contact: weegeevirus9001@gmail.com'\n",
    ")"
   ]
  },
  {
   "cell_type": "code",
   "execution_count": 6,
   "id": "20be4a64",
   "metadata": {},
   "outputs": [
    {
     "name": "stdout",
     "output_type": "stream",
     "text": [
      "Subreddit 1 Name: Fasting\n",
      "Subreddit 2 Name: EatingDisorders\n"
     ]
    }
   ],
   "source": [
    "# Extract subreddit name from URL using regular expression\n",
    "subreddit_name_1 = re.search(r'/r/([^/]+)/new/', reddit_1).group(1)\n",
    "subreddit_name_2 = re.search(r'/r/([^/]+)/new/', reddit_2).group(1)\n",
    "\n",
    "# Print the extracted subreddit names\n",
    "print(f'Subreddit 1 Name: {subreddit_name_1}')\n",
    "print(f'Subreddit 2 Name: {subreddit_name_2}')"
   ]
  },
  {
   "cell_type": "code",
   "execution_count": 7,
   "id": "c1bf64b2",
   "metadata": {},
   "outputs": [],
   "source": [
    "# Access the subreddit objects\n",
    "subreddit_1 = redditscrapper.subreddit(subreddit_name_1)\n",
    "subreddit_2 = redditscrapper.subreddit(subreddit_name_2)\n",
    "\n",
    "# Access the new posts for each subreddit\n",
    "new_posts_1 = subreddit_1.new(limit=1000)  # Change the limit as needed\n",
    "new_posts_2 = subreddit_2.new(limit=1000)  # Change the limit as needed"
   ]
  },
  {
   "cell_type": "code",
   "execution_count": 8,
   "id": "e8034e22",
   "metadata": {},
   "outputs": [
    {
     "data": {
      "text/html": [
       "<div>\n",
       "<style scoped>\n",
       "    .dataframe tbody tr th:only-of-type {\n",
       "        vertical-align: middle;\n",
       "    }\n",
       "\n",
       "    .dataframe tbody tr th {\n",
       "        vertical-align: top;\n",
       "    }\n",
       "\n",
       "    .dataframe thead th {\n",
       "        text-align: right;\n",
       "    }\n",
       "</style>\n",
       "<table border=\"1\" class=\"dataframe\">\n",
       "  <thead>\n",
       "    <tr style=\"text-align: right;\">\n",
       "      <th></th>\n",
       "      <th>Title</th>\n",
       "      <th>Post Text</th>\n",
       "      <th>ID</th>\n",
       "      <th>Score</th>\n",
       "      <th>Total Comments</th>\n",
       "      <th>Post URL</th>\n",
       "    </tr>\n",
       "  </thead>\n",
       "  <tbody>\n",
       "    <tr>\n",
       "      <th>0</th>\n",
       "      <td>Fasting update - 2 weeks ADT/water fast/keto omad</td>\n",
       "      <td>SW: 197, CW: 188.4, GW:180 - Male 5’ 10’, age ...</td>\n",
       "      <td>16nee89</td>\n",
       "      <td>1</td>\n",
       "      <td>1</td>\n",
       "      <td>https://www.reddit.com/r/fasting/comments/16ne...</td>\n",
       "    </tr>\n",
       "    <tr>\n",
       "      <th>1</th>\n",
       "      <td>Does anyone use laxatives (or enema?!?) with t...</td>\n",
       "      <td>Apparently, the godfather of fasting (Dr. Otto...</td>\n",
       "      <td>16naw7y</td>\n",
       "      <td>3</td>\n",
       "      <td>17</td>\n",
       "      <td>https://www.reddit.com/r/fasting/comments/16na...</td>\n",
       "    </tr>\n",
       "    <tr>\n",
       "      <th>2</th>\n",
       "      <td>FIRST 48!!! Only 200 more hours to go 😅</td>\n",
       "      <td></td>\n",
       "      <td>16n6qtb</td>\n",
       "      <td>4</td>\n",
       "      <td>3</td>\n",
       "      <td>https://i.redd.it/k0wcfqo4zapb1.png</td>\n",
       "    </tr>\n",
       "    <tr>\n",
       "      <th>3</th>\n",
       "      <td>Stevia with sodium and potassium drink?</td>\n",
       "      <td>Probably a dumb question, but I've been doing ...</td>\n",
       "      <td>16n5tco</td>\n",
       "      <td>5</td>\n",
       "      <td>3</td>\n",
       "      <td>https://www.reddit.com/r/fasting/comments/16n5...</td>\n",
       "    </tr>\n",
       "    <tr>\n",
       "      <th>4</th>\n",
       "      <td>Preserving muscle while fasting</td>\n",
       "      <td>I’m sure this has been discussed before, sorry...</td>\n",
       "      <td>16n4xor</td>\n",
       "      <td>8</td>\n",
       "      <td>20</td>\n",
       "      <td>https://www.reddit.com/r/fasting/comments/16n4...</td>\n",
       "    </tr>\n",
       "  </tbody>\n",
       "</table>\n",
       "</div>"
      ],
      "text/plain": [
       "                                               Title  \\\n",
       "0  Fasting update - 2 weeks ADT/water fast/keto omad   \n",
       "1  Does anyone use laxatives (or enema?!?) with t...   \n",
       "2            FIRST 48!!! Only 200 more hours to go 😅   \n",
       "3            Stevia with sodium and potassium drink?   \n",
       "4                    Preserving muscle while fasting   \n",
       "\n",
       "                                           Post Text       ID  Score  \\\n",
       "0  SW: 197, CW: 188.4, GW:180 - Male 5’ 10’, age ...  16nee89      1   \n",
       "1  Apparently, the godfather of fasting (Dr. Otto...  16naw7y      3   \n",
       "2                                                     16n6qtb      4   \n",
       "3  Probably a dumb question, but I've been doing ...  16n5tco      5   \n",
       "4  I’m sure this has been discussed before, sorry...  16n4xor      8   \n",
       "\n",
       "   Total Comments                                           Post URL  \n",
       "0               1  https://www.reddit.com/r/fasting/comments/16ne...  \n",
       "1              17  https://www.reddit.com/r/fasting/comments/16na...  \n",
       "2               3                https://i.redd.it/k0wcfqo4zapb1.png  \n",
       "3               3  https://www.reddit.com/r/fasting/comments/16n5...  \n",
       "4              20  https://www.reddit.com/r/fasting/comments/16n4...  "
      ]
     },
     "execution_count": 8,
     "metadata": {},
     "output_type": "execute_result"
    }
   ],
   "source": [
    "# Create a dictionary to store post data\n",
    "posts_dict = {\n",
    "    \"Title\": [],\n",
    "    \"Post Text\": [],\n",
    "    \"ID\": [],\n",
    "    \"Score\": [],\n",
    "    \"Total Comments\": [],\n",
    "    \"Post URL\": []\n",
    "}\n",
    "\n",
    "# Iterate through the new posts and collect data\n",
    "for post in new_posts_1:\n",
    "    # Title of each post\n",
    "    posts_dict[\"Title\"].append(post.title)\n",
    "\n",
    "    # Text inside a post\n",
    "    posts_dict[\"Post Text\"].append(post.selftext)\n",
    "\n",
    "    # Unique ID of each post\n",
    "    posts_dict[\"ID\"].append(post.id)\n",
    "\n",
    "    # The score of a post\n",
    "    posts_dict[\"Score\"].append(post.score)\n",
    "\n",
    "    # Total number of comments inside the post\n",
    "    posts_dict[\"Total Comments\"].append(post.num_comments)\n",
    "\n",
    "    # URL of each post\n",
    "    posts_dict[\"Post URL\"].append(post.url)\n",
    "\n",
    "# Iterate through the new posts for subreddit 2 and collect data\n",
    "for post in new_posts_2:\n",
    "    # Title of each post\n",
    "    posts_dict[\"Title\"].append(post.title)\n",
    "\n",
    "    # Text inside a post\n",
    "    posts_dict[\"Post Text\"].append(post.selftext)\n",
    "\n",
    "    # Unique ID of each post\n",
    "    posts_dict[\"ID\"].append(post.id)\n",
    "\n",
    "    # The score of a post\n",
    "    posts_dict[\"Score\"].append(post.score)\n",
    "\n",
    "    # Total number of comments inside the post\n",
    "    posts_dict[\"Total Comments\"].append(post.num_comments)\n",
    "\n",
    "    # URL of each post\n",
    "    posts_dict[\"Post URL\"].append(post.url)\n",
    "\n",
    "# Saving the data in a Pandas DataFrame\n",
    "all_posts = pd.DataFrame(posts_dict)\n",
    "all_posts.head()"
   ]
  },
  {
   "cell_type": "code",
   "execution_count": 9,
   "id": "0eda518f",
   "metadata": {},
   "outputs": [
    {
     "data": {
      "text/html": [
       "<div>\n",
       "<style scoped>\n",
       "    .dataframe tbody tr th:only-of-type {\n",
       "        vertical-align: middle;\n",
       "    }\n",
       "\n",
       "    .dataframe tbody tr th {\n",
       "        vertical-align: top;\n",
       "    }\n",
       "\n",
       "    .dataframe thead th {\n",
       "        text-align: right;\n",
       "    }\n",
       "</style>\n",
       "<table border=\"1\" class=\"dataframe\">\n",
       "  <thead>\n",
       "    <tr style=\"text-align: right;\">\n",
       "      <th></th>\n",
       "      <th>Score</th>\n",
       "      <th>Total Comments</th>\n",
       "    </tr>\n",
       "  </thead>\n",
       "  <tbody>\n",
       "    <tr>\n",
       "      <th>count</th>\n",
       "      <td>1980.000000</td>\n",
       "      <td>1980.000000</td>\n",
       "    </tr>\n",
       "    <tr>\n",
       "      <th>mean</th>\n",
       "      <td>20.884848</td>\n",
       "      <td>11.342929</td>\n",
       "    </tr>\n",
       "    <tr>\n",
       "      <th>std</th>\n",
       "      <td>86.289458</td>\n",
       "      <td>19.603010</td>\n",
       "    </tr>\n",
       "    <tr>\n",
       "      <th>min</th>\n",
       "      <td>0.000000</td>\n",
       "      <td>0.000000</td>\n",
       "    </tr>\n",
       "    <tr>\n",
       "      <th>25%</th>\n",
       "      <td>1.000000</td>\n",
       "      <td>2.000000</td>\n",
       "    </tr>\n",
       "    <tr>\n",
       "      <th>50%</th>\n",
       "      <td>4.000000</td>\n",
       "      <td>5.500000</td>\n",
       "    </tr>\n",
       "    <tr>\n",
       "      <th>75%</th>\n",
       "      <td>11.000000</td>\n",
       "      <td>12.000000</td>\n",
       "    </tr>\n",
       "    <tr>\n",
       "      <th>max</th>\n",
       "      <td>1435.000000</td>\n",
       "      <td>285.000000</td>\n",
       "    </tr>\n",
       "  </tbody>\n",
       "</table>\n",
       "</div>"
      ],
      "text/plain": [
       "             Score  Total Comments\n",
       "count  1980.000000     1980.000000\n",
       "mean     20.884848       11.342929\n",
       "std      86.289458       19.603010\n",
       "min       0.000000        0.000000\n",
       "25%       1.000000        2.000000\n",
       "50%       4.000000        5.500000\n",
       "75%      11.000000       12.000000\n",
       "max    1435.000000      285.000000"
      ]
     },
     "execution_count": 9,
     "metadata": {},
     "output_type": "execute_result"
    }
   ],
   "source": [
    "all_posts.describe()"
   ]
  },
  {
   "cell_type": "code",
   "execution_count": null,
   "id": "07e79342",
   "metadata": {},
   "outputs": [],
   "source": []
  },
  {
   "cell_type": "code",
   "execution_count": 10,
   "id": "786e4be0",
   "metadata": {},
   "outputs": [],
   "source": [
    "all_posts.to_csv(\"Top Posts.csv\", index=True)"
   ]
  }
 ],
 "metadata": {
  "kernelspec": {
   "display_name": "Python 3 (ipykernel)",
   "language": "python",
   "name": "python3"
  },
  "language_info": {
   "codemirror_mode": {
    "name": "ipython",
    "version": 3
   },
   "file_extension": ".py",
   "mimetype": "text/x-python",
   "name": "python",
   "nbconvert_exporter": "python",
   "pygments_lexer": "ipython3",
   "version": "3.11.3"
  }
 },
 "nbformat": 4,
 "nbformat_minor": 5
}
