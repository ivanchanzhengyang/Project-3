{
 "cells": [
  {
   "cell_type": "markdown",
   "id": "3688dfd6",
   "metadata": {},
   "source": [
    "| column                           | datatype | explanation                                       |\n",
    "|----------------------------------|-----------|---------------------------------------------------|\n",
    "| title                            | object    | Title of the post                                 |\n",
    "| post_text                        | object    | Text content of the post                          |\n",
    "| id                               | object    | Unique identifier for the post                    |\n",
    "| score                            | int64     | Score or upvotes of the post                      |\n",
    "| total_comments                   | int64     | Total number of comments on the post              |\n",
    "| post_url                         | object    | URL of the post                                    |\n",
    "| subreddit                        | object    | Subreddit where the post was made                  |\n",
    "| post_type                        | object    | Type or format of the post                         |\n",
    "| time_uploaded                    | object    | Timestamp when the post was uploaded               |\n",
    "| stopword_dropped_title_and_text  | object    | Title and text content with stopwords removed     |\n",
    "| title_text_stemmed               | object    | Title and text content after stemming              |\n",
    "| title_text_lemmatized            | object    | Title and text content after lemmatization         |"
   ]
  },
  {
   "cell_type": "code",
   "execution_count": 1,
   "id": "e09c55a7",
   "metadata": {},
   "outputs": [],
   "source": [
    "# Standard Library Imports\n",
    "import pandas as pd\n",
    "import re\n",
    "import datetime\n",
    "\n",
    "# Third-party Library Imports\n",
    "import requests\n",
    "from bs4 import BeautifulSoup\n",
    "import praw\n",
    "import nltk\n",
    "import numpy as np\n",
    "import matplotlib.pyplot as plt\n",
    "import concurrent.futures\n",
    "from nltk.corpus import stopwords\n",
    "from gensim.models import Word2Vec\n",
    "from sklearn.model_selection import train_test_split\n",
    "from sklearn.linear_model import LogisticRegression\n",
    "from sklearn.metrics import classification_report\n",
    "import time\n",
    "import itertools\n",
    "from collections import defaultdict, Counter\n",
    "from nltk.stem import WordNetLemmatizer, PorterStemmer\n",
    "from nltk.util import bigrams\n",
    "from sklearn.feature_extraction.text import CountVectorizer\n",
    "import string\n",
    "\n",
    "# Custom Functions or Classes (if applicable)"
   ]
  },
  {
   "cell_type": "code",
   "execution_count": 2,
   "id": "cc16c1be",
   "metadata": {},
   "outputs": [],
   "source": [
    "# Set pandas display options to show the entire content of the \"Post Text\" column\n",
    "#pd.set_option('display.max_colwidth', None)"
   ]
  },
  {
   "cell_type": "code",
   "execution_count": 3,
   "id": "efbe64d5",
   "metadata": {},
   "outputs": [],
   "source": [
    "# Initialize the Reddit API client\n",
    "redditscrapper = praw.Reddit(\n",
    "    client_id='mTKAc7piwaoiD3fvkhY7qA',\n",
    "    client_secret='GdT29i_cBYDTJwb0eExYEh6prVceGg',\n",
    "    user_agent='(REDACTED NAME HERE)'\n",
    ")"
   ]
  },
  {
   "cell_type": "code",
   "execution_count": 4,
   "id": "dff99209",
   "metadata": {},
   "outputs": [],
   "source": [
    "# List of subreddit names to scrape\n",
    "subreddit_names = [\"intermittentfasting\", \"AnorexiaNervosa\"]"
   ]
  },
  {
   "cell_type": "code",
   "execution_count": 5,
   "id": "3f190694",
   "metadata": {},
   "outputs": [],
   "source": [
    "# Dictionary to store post data\n",
    "posts_dict = {\n",
    "    \"Title\": [],\n",
    "    \"Post Text\": [],\n",
    "    \"ID\": [],\n",
    "    \"Score\": [],\n",
    "    \"Total Comments\": [],\n",
    "    \"Post URL\": [],\n",
    "    \"Subreddit\": [],\n",
    "    \"Post Type\": [],  # Add a column for post type (new, hot, top, rising)\n",
    "    \"Time uploaded\": []\n",
    "}"
   ]
  },
  {
   "cell_type": "code",
   "execution_count": 6,
   "id": "0890263b",
   "metadata": {},
   "outputs": [],
   "source": [
    "# Set to keep track of collected post IDs\n",
    "collected_post_ids = set()"
   ]
  },
  {
   "cell_type": "code",
   "execution_count": 7,
   "id": "91d8f959",
   "metadata": {},
   "outputs": [
    {
     "name": "stdout",
     "output_type": "stream",
     "text": [
      "Success! The subreddit at https://www.reddit.com/r/intermittentfasting is accessible.\n",
      "Success! The subreddit at https://www.reddit.com/r/AnorexiaNervosa is accessible.\n"
     ]
    }
   ],
   "source": [
    "# Iterate through the subreddit names to test accessibility\n",
    "for subreddit_name in subreddit_names:\n",
    "    reddit_url = f\"https://www.reddit.com/r/{subreddit_name}\"\n",
    "    response = requests.get(reddit_url)\n",
    "\n",
    "    if response.status_code == 200:\n",
    "        print(f\"Success! The subreddit at {reddit_url} is accessible.\")\n",
    "    else:\n",
    "        print(f\"Error! The subreddit at {reddit_url} returned a status code of {response.status_code}.\")"
   ]
  },
  {
   "cell_type": "markdown",
   "id": "da19dde4",
   "metadata": {},
   "source": [
    "## Webscraping"
   ]
  },
  {
   "cell_type": "code",
   "execution_count": 8,
   "id": "52211549",
   "metadata": {},
   "outputs": [
    {
     "name": "stdout",
     "output_type": "stream",
     "text": [
      "Total number of non-deleted/non-removed posts collected: 3960\n"
     ]
    },
    {
     "data": {
      "text/html": [
       "<div>\n",
       "<style scoped>\n",
       "    .dataframe tbody tr th:only-of-type {\n",
       "        vertical-align: middle;\n",
       "    }\n",
       "\n",
       "    .dataframe tbody tr th {\n",
       "        vertical-align: top;\n",
       "    }\n",
       "\n",
       "    .dataframe thead th {\n",
       "        text-align: right;\n",
       "    }\n",
       "</style>\n",
       "<table border=\"1\" class=\"dataframe\">\n",
       "  <thead>\n",
       "    <tr style=\"text-align: right;\">\n",
       "      <th></th>\n",
       "      <th>Title</th>\n",
       "      <th>Post Text</th>\n",
       "      <th>ID</th>\n",
       "      <th>Score</th>\n",
       "      <th>Total Comments</th>\n",
       "      <th>Post URL</th>\n",
       "      <th>Subreddit</th>\n",
       "      <th>Post Type</th>\n",
       "      <th>Time uploaded</th>\n",
       "    </tr>\n",
       "  </thead>\n",
       "  <tbody>\n",
       "    <tr>\n",
       "      <th>0</th>\n",
       "      <td>Does taking flavoured creatine break a fast?</td>\n",
       "      <td>Taking one scoop, roughly 3g. It has sucralose...</td>\n",
       "      <td>16shh83</td>\n",
       "      <td>1</td>\n",
       "      <td>0</td>\n",
       "      <td>https://www.reddit.com/r/intermittentfasting/c...</td>\n",
       "      <td>intermittentfasting</td>\n",
       "      <td>new</td>\n",
       "      <td>2023-09-26 07:57:13</td>\n",
       "    </tr>\n",
       "    <tr>\n",
       "      <th>1</th>\n",
       "      <td>I lost 120 lbs.......she lost 80. One meal a d...</td>\n",
       "      <td></td>\n",
       "      <td>16shbmz</td>\n",
       "      <td>6</td>\n",
       "      <td>1</td>\n",
       "      <td>https://i.redd.it/cft42u8lso151.jpg</td>\n",
       "      <td>intermittentfasting</td>\n",
       "      <td>new</td>\n",
       "      <td>2023-09-26 07:46:54</td>\n",
       "    </tr>\n",
       "    <tr>\n",
       "      <th>2</th>\n",
       "      <td>Does fasting out of spite work?</td>\n",
       "      <td>We’ll see in 4 weeks when I go to a wedding wh...</td>\n",
       "      <td>16sfrlc</td>\n",
       "      <td>0</td>\n",
       "      <td>2</td>\n",
       "      <td>https://www.reddit.com/r/intermittentfasting/c...</td>\n",
       "      <td>intermittentfasting</td>\n",
       "      <td>new</td>\n",
       "      <td>2023-09-26 06:10:27</td>\n",
       "    </tr>\n",
       "    <tr>\n",
       "      <th>3</th>\n",
       "      <td>Daily Fasting Check-in!</td>\n",
       "      <td>* **Type** of fast (water, juice, smoking, etc...</td>\n",
       "      <td>16sfl07</td>\n",
       "      <td>1</td>\n",
       "      <td>0</td>\n",
       "      <td>https://www.reddit.com/r/intermittentfasting/c...</td>\n",
       "      <td>intermittentfasting</td>\n",
       "      <td>new</td>\n",
       "      <td>2023-09-26 06:00:31</td>\n",
       "    </tr>\n",
       "    <tr>\n",
       "      <th>4</th>\n",
       "      <td>90 Days of Intermittent Fasting - IT WORKS!</td>\n",
       "      <td>Hi Everyone, \\n\\nToday was the 90th day of my ...</td>\n",
       "      <td>16sdl2e</td>\n",
       "      <td>17</td>\n",
       "      <td>8</td>\n",
       "      <td>https://www.reddit.com/r/intermittentfasting/c...</td>\n",
       "      <td>intermittentfasting</td>\n",
       "      <td>new</td>\n",
       "      <td>2023-09-26 04:10:24</td>\n",
       "    </tr>\n",
       "  </tbody>\n",
       "</table>\n",
       "</div>"
      ],
      "text/plain": [
       "                                               Title  \\\n",
       "0       Does taking flavoured creatine break a fast?   \n",
       "1  I lost 120 lbs.......she lost 80. One meal a d...   \n",
       "2                    Does fasting out of spite work?   \n",
       "3                            Daily Fasting Check-in!   \n",
       "4        90 Days of Intermittent Fasting - IT WORKS!   \n",
       "\n",
       "                                           Post Text       ID  Score  \\\n",
       "0  Taking one scoop, roughly 3g. It has sucralose...  16shh83      1   \n",
       "1                                                     16shbmz      6   \n",
       "2  We’ll see in 4 weeks when I go to a wedding wh...  16sfrlc      0   \n",
       "3  * **Type** of fast (water, juice, smoking, etc...  16sfl07      1   \n",
       "4  Hi Everyone, \\n\\nToday was the 90th day of my ...  16sdl2e     17   \n",
       "\n",
       "   Total Comments                                           Post URL  \\\n",
       "0               0  https://www.reddit.com/r/intermittentfasting/c...   \n",
       "1               1                https://i.redd.it/cft42u8lso151.jpg   \n",
       "2               2  https://www.reddit.com/r/intermittentfasting/c...   \n",
       "3               0  https://www.reddit.com/r/intermittentfasting/c...   \n",
       "4               8  https://www.reddit.com/r/intermittentfasting/c...   \n",
       "\n",
       "             Subreddit Post Type       Time uploaded  \n",
       "0  intermittentfasting       new 2023-09-26 07:57:13  \n",
       "1  intermittentfasting       new 2023-09-26 07:46:54  \n",
       "2  intermittentfasting       new 2023-09-26 06:10:27  \n",
       "3  intermittentfasting       new 2023-09-26 06:00:31  \n",
       "4  intermittentfasting       new 2023-09-26 04:10:24  "
      ]
     },
     "execution_count": 8,
     "metadata": {},
     "output_type": "execute_result"
    }
   ],
   "source": [
    "# Define a dictionary to map post types to fetch functions\n",
    "post_type_mapping = {\n",
    "    \"new\": \"new\",\n",
    "    \"hot\": \"hot\",\n",
    "    \"top\": \"top\",\n",
    "    \"rising\": \"rising\"\n",
    "}\n",
    "\n",
    "# Iterate through the subreddit names and post types to fetch and collect posts\n",
    "for subreddit_name in subreddit_names:\n",
    "    subreddit = redditscrapper.subreddit(subreddit_name)\n",
    "    \n",
    "    for post_type, fetch_function in post_type_mapping.items():\n",
    "        posts = getattr(subreddit, fetch_function)(limit=1000000)  # Fetch posts using the mapping\n",
    "        \n",
    "        for post in posts:\n",
    "            if post.id not in collected_post_ids:\n",
    "                collected_post_ids.add(post.id)\n",
    "                # Check if the post is deleted or removed\n",
    "                if post.selftext != \"[deleted]\" and post.selftext != \"[removed]\":\n",
    "                    posts_dict[\"Title\"].append(post.title)\n",
    "                    posts_dict[\"Post Text\"].append(post.selftext)\n",
    "                    posts_dict[\"ID\"].append(post.id)\n",
    "                    posts_dict[\"Score\"].append(post.score)\n",
    "                    posts_dict[\"Total Comments\"].append(post.num_comments)\n",
    "                    posts_dict[\"Post URL\"].append(post.url)\n",
    "                    posts_dict[\"Subreddit\"].append(subreddit_name)\n",
    "                    posts_dict[\"Post Type\"].append(post_type)\n",
    "                    posts_dict[\"Time uploaded\"].append(post.created_utc)\n",
    "\n",
    "# Create a DataFrame from the collected data\n",
    "all_posts = pd.DataFrame(posts_dict)\n",
    "\n",
    "# Convert the \"Time uploaded\" column to datetime format\n",
    "all_posts['Time uploaded'] = all_posts['Time uploaded'].apply(lambda x: pd.to_datetime(x, unit='s', origin='unix'))\n",
    "\n",
    "# Print a summary of the collected data\n",
    "print(f\"Total number of non-deleted/non-removed posts collected: {len(all_posts)}\")\n",
    "all_posts.head()"
   ]
  },
  {
   "cell_type": "code",
   "execution_count": 9,
   "id": "77e505df",
   "metadata": {},
   "outputs": [],
   "source": [
    "# Save the data to a CSV file with datetime format\n",
    "all_posts.to_csv(\"reddit_posts_datetime.csv\", index=False)"
   ]
  },
  {
   "cell_type": "markdown",
   "id": "441a06da",
   "metadata": {},
   "source": [
    "[Click here to see the notebook used to clean the scrapped data](Project%203%20Cleaning%20%28caa%20250923%202057%29.ipynb)"
   ]
  }
 ],
 "metadata": {
  "kernelspec": {
   "display_name": "Python 3 (ipykernel)",
   "language": "python",
   "name": "python3"
  },
  "language_info": {
   "codemirror_mode": {
    "name": "ipython",
    "version": 3
   },
   "file_extension": ".py",
   "mimetype": "text/x-python",
   "name": "python",
   "nbconvert_exporter": "python",
   "pygments_lexer": "ipython3",
   "version": "3.11.3"
  }
 },
 "nbformat": 4,
 "nbformat_minor": 5
}
