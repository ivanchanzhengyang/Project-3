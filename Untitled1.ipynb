{
 "cells": [
  {
   "cell_type": "code",
   "execution_count": 56,
   "id": "7623bea0",
   "metadata": {},
   "outputs": [],
   "source": [
    "import numpy as np\n",
    "from sklearn.model_selection import train_test_split\n",
    "from sklearn.ensemble import BaggingRegressor\n",
    "\n",
    "# Generate synthetic features (X) and target values (y) as previously shown\n",
    "num_samples = 1000\n",
    "X1 = np.random.rand(num_samples)\n",
    "X2 = np.random.rand(num_samples)\n",
    "y = 2 * X1 + 3 * X2 + np.random.randn(num_samples)\n",
    "\n",
    "# Combine features into a single feature matrix\n",
    "X = np.column_stack((X1, X2))\n",
    "\n",
    "# Split the dataset into training and testing sets\n",
    "# Adjust the test_size parameter to control the split ratio (e.g., 0.2 for a 80/20 split)\n",
    "X_train, X_test, y_train, y_test = train_test_split(X, y, test_size=0.2, random_state=42)\n",
    "\n",
    "# Now, you have X_train and y_train for training your model, and X_test and y_test for testing and evaluation.\n",
    "# You can use these datasets with machine learning models and perform tasks like regression or classification."
   ]
  },
  {
   "cell_type": "code",
   "execution_count": 54,
   "id": "c57bc115",
   "metadata": {},
   "outputs": [
    {
     "ename": "NameError",
     "evalue": "name 'reg' is not defined",
     "output_type": "error",
     "traceback": [
      "\u001b[1;31m---------------------------------------------------------------------------\u001b[0m",
      "\u001b[1;31mNameError\u001b[0m                                 Traceback (most recent call last)",
      "Cell \u001b[1;32mIn[54], line 1\u001b[0m\n\u001b[1;32m----> 1\u001b[0m reg\u001b[38;5;241m.\u001b[39mfit(X_train, y_train)\n",
      "\u001b[1;31mNameError\u001b[0m: name 'reg' is not defined"
     ]
    }
   ],
   "source": [
    "reg.fit(X_train, y_train)"
   ]
  }
 ],
 "metadata": {
  "kernelspec": {
   "display_name": "Python 3 (ipykernel)",
   "language": "python",
   "name": "python3"
  },
  "language_info": {
   "codemirror_mode": {
    "name": "ipython",
    "version": 3
   },
   "file_extension": ".py",
   "mimetype": "text/x-python",
   "name": "python",
   "nbconvert_exporter": "python",
   "pygments_lexer": "ipython3",
   "version": "3.11.3"
  }
 },
 "nbformat": 4,
 "nbformat_minor": 5
}
